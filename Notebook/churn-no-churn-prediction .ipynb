{
 "cells": [
  {
   "cell_type": "code",
   "execution_count": 1,
   "id": "e05772e1",
   "metadata": {
    "execution": {
     "iopub.execute_input": "2025-08-28T08:10:22.576851Z",
     "iopub.status.busy": "2025-08-28T08:10:22.575286Z",
     "iopub.status.idle": "2025-08-28T08:10:35.477212Z",
     "shell.execute_reply": "2025-08-28T08:10:35.475094Z"
    },
    "papermill": {
     "duration": 12.909279,
     "end_time": "2025-08-28T08:10:35.480157",
     "exception": false,
     "start_time": "2025-08-28T08:10:22.570878",
     "status": "completed"
    },
    "tags": []
   },
   "outputs": [
    {
     "name": "stdout",
     "output_type": "stream",
     "text": [
      "Requirement already satisfied: scikit-learn in /usr/local/lib/python3.11/dist-packages (1.2.2)\r\n",
      "Collecting scikit-learn\r\n",
      "  Downloading scikit_learn-1.7.1-cp311-cp311-manylinux2014_x86_64.manylinux_2_17_x86_64.whl.metadata (11 kB)\r\n",
      "Requirement already satisfied: imbalanced-learn in /usr/local/lib/python3.11/dist-packages (0.13.0)\r\n",
      "Collecting imbalanced-learn\r\n",
      "  Downloading imbalanced_learn-0.14.0-py3-none-any.whl.metadata (8.8 kB)\r\n",
      "Requirement already satisfied: numpy>=1.22.0 in /usr/local/lib/python3.11/dist-packages (from scikit-learn) (1.26.4)\r\n",
      "Requirement already satisfied: scipy>=1.8.0 in /usr/local/lib/python3.11/dist-packages (from scikit-learn) (1.15.3)\r\n",
      "Requirement already satisfied: joblib>=1.2.0 in /usr/local/lib/python3.11/dist-packages (from scikit-learn) (1.5.1)\r\n",
      "Requirement already satisfied: threadpoolctl>=3.1.0 in /usr/local/lib/python3.11/dist-packages (from scikit-learn) (3.6.0)\r\n",
      "Requirement already satisfied: mkl_fft in /usr/local/lib/python3.11/dist-packages (from numpy>=1.22.0->scikit-learn) (1.3.8)\r\n",
      "Requirement already satisfied: mkl_random in /usr/local/lib/python3.11/dist-packages (from numpy>=1.22.0->scikit-learn) (1.2.4)\r\n",
      "Requirement already satisfied: mkl_umath in /usr/local/lib/python3.11/dist-packages (from numpy>=1.22.0->scikit-learn) (0.1.1)\r\n",
      "Requirement already satisfied: mkl in /usr/local/lib/python3.11/dist-packages (from numpy>=1.22.0->scikit-learn) (2025.2.0)\r\n",
      "Requirement already satisfied: tbb4py in /usr/local/lib/python3.11/dist-packages (from numpy>=1.22.0->scikit-learn) (2022.2.0)\r\n",
      "Requirement already satisfied: mkl-service in /usr/local/lib/python3.11/dist-packages (from numpy>=1.22.0->scikit-learn) (2.4.1)\r\n",
      "Requirement already satisfied: intel-openmp<2026,>=2024 in /usr/local/lib/python3.11/dist-packages (from mkl->numpy>=1.22.0->scikit-learn) (2024.2.0)\r\n",
      "Requirement already satisfied: tbb==2022.* in /usr/local/lib/python3.11/dist-packages (from mkl->numpy>=1.22.0->scikit-learn) (2022.2.0)\r\n",
      "Requirement already satisfied: tcmlib==1.* in /usr/local/lib/python3.11/dist-packages (from tbb==2022.*->mkl->numpy>=1.22.0->scikit-learn) (1.4.0)\r\n",
      "Requirement already satisfied: intel-cmplr-lib-rt in /usr/local/lib/python3.11/dist-packages (from mkl_umath->numpy>=1.22.0->scikit-learn) (2024.2.0)\r\n",
      "Requirement already satisfied: intel-cmplr-lib-ur==2024.2.0 in /usr/local/lib/python3.11/dist-packages (from intel-openmp<2026,>=2024->mkl->numpy>=1.22.0->scikit-learn) (2024.2.0)\r\n",
      "Downloading scikit_learn-1.7.1-cp311-cp311-manylinux2014_x86_64.manylinux_2_17_x86_64.whl (9.7 MB)\r\n",
      "\u001b[2K   \u001b[90m━━━━━━━━━━━━━━━━━━━━━━━━━━━━━━━━━━━━━━━━\u001b[0m \u001b[32m9.7/9.7 MB\u001b[0m \u001b[31m52.1 MB/s\u001b[0m eta \u001b[36m0:00:00\u001b[0m\r\n",
      "\u001b[?25hDownloading imbalanced_learn-0.14.0-py3-none-any.whl (239 kB)\r\n",
      "\u001b[2K   \u001b[90m━━━━━━━━━━━━━━━━━━━━━━━━━━━━━━━━━━━━━━━━\u001b[0m \u001b[32m240.0/240.0 kB\u001b[0m \u001b[31m9.8 MB/s\u001b[0m eta \u001b[36m0:00:00\u001b[0m\r\n",
      "\u001b[?25hInstalling collected packages: scikit-learn, imbalanced-learn\r\n",
      "  Attempting uninstall: scikit-learn\r\n",
      "    Found existing installation: scikit-learn 1.2.2\r\n",
      "    Uninstalling scikit-learn-1.2.2:\r\n",
      "      Successfully uninstalled scikit-learn-1.2.2\r\n",
      "  Attempting uninstall: imbalanced-learn\r\n",
      "    Found existing installation: imbalanced-learn 0.13.0\r\n",
      "    Uninstalling imbalanced-learn-0.13.0:\r\n",
      "      Successfully uninstalled imbalanced-learn-0.13.0\r\n",
      "\u001b[31mERROR: pip's dependency resolver does not currently take into account all the packages that are installed. This behaviour is the source of the following dependency conflicts.\r\n",
      "category-encoders 2.7.0 requires scikit-learn<1.6.0,>=1.0.0, but you have scikit-learn 1.7.1 which is incompatible.\r\n",
      "cesium 0.12.4 requires numpy<3.0,>=2.0, but you have numpy 1.26.4 which is incompatible.\r\n",
      "sklearn-compat 0.1.3 requires scikit-learn<1.7,>=1.2, but you have scikit-learn 1.7.1 which is incompatible.\u001b[0m\u001b[31m\r\n",
      "\u001b[0mSuccessfully installed imbalanced-learn-0.14.0 scikit-learn-1.7.1\r\n"
     ]
    }
   ],
   "source": [
    "!pip install -U scikit-learn imbalanced-learn"
   ]
  },
  {
   "cell_type": "code",
   "execution_count": 2,
   "id": "84c93497",
   "metadata": {
    "execution": {
     "iopub.execute_input": "2025-08-28T08:10:35.489639Z",
     "iopub.status.busy": "2025-08-28T08:10:35.489245Z",
     "iopub.status.idle": "2025-08-28T08:10:40.688269Z",
     "shell.execute_reply": "2025-08-28T08:10:40.686974Z"
    },
    "papermill": {
     "duration": 5.206395,
     "end_time": "2025-08-28T08:10:40.690685",
     "exception": false,
     "start_time": "2025-08-28T08:10:35.484290",
     "status": "completed"
    },
    "tags": []
   },
   "outputs": [
    {
     "name": "stdout",
     "output_type": "stream",
     "text": [
      "Libraries imported!\n"
     ]
    }
   ],
   "source": [
    "import pandas as pd #lets us load our customer data from the .csv file into a clean, table-like structure called a DataFrame\n",
    "import numpy as np # NumPy handles the numbers inside the data table it. It works behind the scenes to make mathematical operations on our data fast and efficient. We need it for tasks like calculating the median TotalCharges\n",
    "import joblib #can save our fully trained model(.dump), loads the saved model from the file (.load) \n",
    "from sklearn.model_selection import train_test_split #A function from the scikit-learn library (sklearn) that splits our data into two parts.\n",
    "from sklearn.preprocessing import StandardScaler, OneHotEncoder, LabelEncoder # These are data \"cleaners\" or \"preprocessors\" since ML model only understands numbers not text it converts data into it.\n",
    "from sklearn.compose import ColumnTransformer # An organizer or a manager for our preprocessing tools suppose We have numerical columns that need StandardScaler and categorical columns(text data) that need OneHotEncoder. The ColumnTransformer is a tool that lets us apply the right transformation to the right column automatically. It keeps everything neat and organized.\n",
    "from sklearn.linear_model import LogisticRegression \n",
    "from imblearn.over_sampling import SMOTE #Synthetic Minority Over-sampling TEchnique, SMOTE creates new, synthetic examples of the minority class from the dataset (the \"Churn\" customers). It's like photocopying the few \"Churn\" examples so the model has a balanced view not get  baised to learn to say not churn.\n",
    "from imblearn.pipeline import Pipeline as ImbPipeline #A pipeline is like an assembly line for our entire process. It chains all our steps together in the correct order\n",
    "from sklearn.metrics import classification_report, ConfusionMatrixDisplay #classification_report: Gives us key metrics like precision and recall, which tell us how accurate the model is for predicting both \"Churn\" and \"No Churn.\"ConfusionMatrixDisplay: Creates a visual grid that shows us exactly where the model was right and where it was wrong.\n",
    "import matplotlib.pyplot as plt # The primary library for creating charts and plots in Python. We use it to actually draw the confusion matrix plot that ConfusionMatrixDisplay creates\n",
    "from sklearn.ensemble import RandomForestClassifier\n",
    "from sklearn.ensemble import GradientBoostingClassifier\n",
    "from sklearn.svm import SVC\n",
    "print(\"Libraries imported!\")"
   ]
  },
  {
   "cell_type": "code",
   "execution_count": 3,
   "id": "7825c014",
   "metadata": {
    "execution": {
     "iopub.execute_input": "2025-08-28T08:10:40.700728Z",
     "iopub.status.busy": "2025-08-28T08:10:40.700172Z",
     "iopub.status.idle": "2025-08-28T08:10:40.826734Z",
     "shell.execute_reply": "2025-08-28T08:10:40.825692Z"
    },
    "papermill": {
     "duration": 0.133782,
     "end_time": "2025-08-28T08:10:40.828401",
     "exception": false,
     "start_time": "2025-08-28T08:10:40.694619",
     "status": "completed"
    },
    "tags": []
   },
   "outputs": [
    {
     "name": "stdout",
     "output_type": "stream",
     "text": [
      "loaded and cleaned.\n"
     ]
    },
    {
     "data": {
      "text/html": [
       "<div>\n",
       "<style scoped>\n",
       "    .dataframe tbody tr th:only-of-type {\n",
       "        vertical-align: middle;\n",
       "    }\n",
       "\n",
       "    .dataframe tbody tr th {\n",
       "        vertical-align: top;\n",
       "    }\n",
       "\n",
       "    .dataframe thead th {\n",
       "        text-align: right;\n",
       "    }\n",
       "</style>\n",
       "<table border=\"1\" class=\"dataframe\">\n",
       "  <thead>\n",
       "    <tr style=\"text-align: right;\">\n",
       "      <th></th>\n",
       "      <th>gender</th>\n",
       "      <th>SeniorCitizen</th>\n",
       "      <th>Partner</th>\n",
       "      <th>Dependents</th>\n",
       "      <th>tenure</th>\n",
       "      <th>PhoneService</th>\n",
       "      <th>MultipleLines</th>\n",
       "      <th>InternetService</th>\n",
       "      <th>OnlineSecurity</th>\n",
       "      <th>OnlineBackup</th>\n",
       "      <th>DeviceProtection</th>\n",
       "      <th>TechSupport</th>\n",
       "      <th>StreamingTV</th>\n",
       "      <th>StreamingMovies</th>\n",
       "      <th>Contract</th>\n",
       "      <th>PaperlessBilling</th>\n",
       "      <th>PaymentMethod</th>\n",
       "      <th>MonthlyCharges</th>\n",
       "      <th>TotalCharges</th>\n",
       "      <th>Churn</th>\n",
       "    </tr>\n",
       "  </thead>\n",
       "  <tbody>\n",
       "    <tr>\n",
       "      <th>0</th>\n",
       "      <td>Female</td>\n",
       "      <td>0</td>\n",
       "      <td>Yes</td>\n",
       "      <td>No</td>\n",
       "      <td>1</td>\n",
       "      <td>No</td>\n",
       "      <td>No phone service</td>\n",
       "      <td>DSL</td>\n",
       "      <td>No</td>\n",
       "      <td>Yes</td>\n",
       "      <td>No</td>\n",
       "      <td>No</td>\n",
       "      <td>No</td>\n",
       "      <td>No</td>\n",
       "      <td>Month-to-month</td>\n",
       "      <td>Yes</td>\n",
       "      <td>Electronic check</td>\n",
       "      <td>29.85</td>\n",
       "      <td>29.85</td>\n",
       "      <td>0</td>\n",
       "    </tr>\n",
       "    <tr>\n",
       "      <th>1</th>\n",
       "      <td>Male</td>\n",
       "      <td>0</td>\n",
       "      <td>No</td>\n",
       "      <td>No</td>\n",
       "      <td>34</td>\n",
       "      <td>Yes</td>\n",
       "      <td>No</td>\n",
       "      <td>DSL</td>\n",
       "      <td>Yes</td>\n",
       "      <td>No</td>\n",
       "      <td>Yes</td>\n",
       "      <td>No</td>\n",
       "      <td>No</td>\n",
       "      <td>No</td>\n",
       "      <td>One year</td>\n",
       "      <td>No</td>\n",
       "      <td>Mailed check</td>\n",
       "      <td>56.95</td>\n",
       "      <td>1889.50</td>\n",
       "      <td>0</td>\n",
       "    </tr>\n",
       "    <tr>\n",
       "      <th>2</th>\n",
       "      <td>Male</td>\n",
       "      <td>0</td>\n",
       "      <td>No</td>\n",
       "      <td>No</td>\n",
       "      <td>2</td>\n",
       "      <td>Yes</td>\n",
       "      <td>No</td>\n",
       "      <td>DSL</td>\n",
       "      <td>Yes</td>\n",
       "      <td>Yes</td>\n",
       "      <td>No</td>\n",
       "      <td>No</td>\n",
       "      <td>No</td>\n",
       "      <td>No</td>\n",
       "      <td>Month-to-month</td>\n",
       "      <td>Yes</td>\n",
       "      <td>Mailed check</td>\n",
       "      <td>53.85</td>\n",
       "      <td>108.15</td>\n",
       "      <td>1</td>\n",
       "    </tr>\n",
       "    <tr>\n",
       "      <th>3</th>\n",
       "      <td>Male</td>\n",
       "      <td>0</td>\n",
       "      <td>No</td>\n",
       "      <td>No</td>\n",
       "      <td>45</td>\n",
       "      <td>No</td>\n",
       "      <td>No phone service</td>\n",
       "      <td>DSL</td>\n",
       "      <td>Yes</td>\n",
       "      <td>No</td>\n",
       "      <td>Yes</td>\n",
       "      <td>Yes</td>\n",
       "      <td>No</td>\n",
       "      <td>No</td>\n",
       "      <td>One year</td>\n",
       "      <td>No</td>\n",
       "      <td>Bank transfer (automatic)</td>\n",
       "      <td>42.30</td>\n",
       "      <td>1840.75</td>\n",
       "      <td>0</td>\n",
       "    </tr>\n",
       "    <tr>\n",
       "      <th>4</th>\n",
       "      <td>Female</td>\n",
       "      <td>0</td>\n",
       "      <td>No</td>\n",
       "      <td>No</td>\n",
       "      <td>2</td>\n",
       "      <td>Yes</td>\n",
       "      <td>No</td>\n",
       "      <td>Fiber optic</td>\n",
       "      <td>No</td>\n",
       "      <td>No</td>\n",
       "      <td>No</td>\n",
       "      <td>No</td>\n",
       "      <td>No</td>\n",
       "      <td>No</td>\n",
       "      <td>Month-to-month</td>\n",
       "      <td>Yes</td>\n",
       "      <td>Electronic check</td>\n",
       "      <td>70.70</td>\n",
       "      <td>151.65</td>\n",
       "      <td>1</td>\n",
       "    </tr>\n",
       "  </tbody>\n",
       "</table>\n",
       "</div>"
      ],
      "text/plain": [
       "   gender  SeniorCitizen Partner Dependents  tenure PhoneService  \\\n",
       "0  Female              0     Yes         No       1           No   \n",
       "1    Male              0      No         No      34          Yes   \n",
       "2    Male              0      No         No       2          Yes   \n",
       "3    Male              0      No         No      45           No   \n",
       "4  Female              0      No         No       2          Yes   \n",
       "\n",
       "      MultipleLines InternetService OnlineSecurity OnlineBackup  \\\n",
       "0  No phone service             DSL             No          Yes   \n",
       "1                No             DSL            Yes           No   \n",
       "2                No             DSL            Yes          Yes   \n",
       "3  No phone service             DSL            Yes           No   \n",
       "4                No     Fiber optic             No           No   \n",
       "\n",
       "  DeviceProtection TechSupport StreamingTV StreamingMovies        Contract  \\\n",
       "0               No          No          No              No  Month-to-month   \n",
       "1              Yes          No          No              No        One year   \n",
       "2               No          No          No              No  Month-to-month   \n",
       "3              Yes         Yes          No              No        One year   \n",
       "4               No          No          No              No  Month-to-month   \n",
       "\n",
       "  PaperlessBilling              PaymentMethod  MonthlyCharges  TotalCharges  \\\n",
       "0              Yes           Electronic check           29.85         29.85   \n",
       "1               No               Mailed check           56.95       1889.50   \n",
       "2              Yes               Mailed check           53.85        108.15   \n",
       "3               No  Bank transfer (automatic)           42.30       1840.75   \n",
       "4              Yes           Electronic check           70.70        151.65   \n",
       "\n",
       "   Churn  \n",
       "0      0  \n",
       "1      0  \n",
       "2      1  \n",
       "3      0  \n",
       "4      1  "
      ]
     },
     "execution_count": 3,
     "metadata": {},
     "output_type": "execute_result"
    }
   ],
   "source": [
    "# Loading data\n",
    "file_path = '/kaggle/input/telco-customer-churn/WA_Fn-UseC_-Telco-Customer-Churn.csv'\n",
    "df = pd.read_csv(file_path) # geting the data out of the file and into a format(smart spreadsheet) that Python can work with. A DataFrame(df) is the perfect tool for this, allowing us to easily view and manipulate the data with code.\n",
    "\n",
    "# Convert TotalCharges from text to numeric, coercing errors to NaN\n",
    "df['TotalCharges'] = pd.to_numeric(df['TotalCharges'], errors='coerce')\n",
    "\n",
    "# Droped the 'customerID' column cause of no predective value\n",
    "df.drop('customerID', axis=1, inplace=True)\n",
    "\n",
    "# filling not available(fillna) in TotalCharges with the median\n",
    "median_total_charges = df['TotalCharges'].median()\n",
    "df.fillna({'TotalCharges': median_total_charges}, inplace=True)\n",
    "\n",
    "# replacing the target variable 'Churn' with 1 or 0 intead of yes and no \n",
    "encoder = LabelEncoder()\n",
    "df['Churn'] = encoder.fit_transform(df['Churn']) # fit assings 1 and 0 transform replaces yes and no with 1 and 0\n",
    "\n",
    "print(\"loaded and cleaned.\")\n",
    "df.head()"
   ]
  },
  {
   "cell_type": "code",
   "execution_count": 4,
   "id": "968b5277",
   "metadata": {
    "execution": {
     "iopub.execute_input": "2025-08-28T08:10:40.838099Z",
     "iopub.status.busy": "2025-08-28T08:10:40.837749Z",
     "iopub.status.idle": "2025-08-28T08:10:40.848801Z",
     "shell.execute_reply": "2025-08-28T08:10:40.847784Z"
    },
    "papermill": {
     "duration": 0.017935,
     "end_time": "2025-08-28T08:10:40.850255",
     "exception": false,
     "start_time": "2025-08-28T08:10:40.832320",
     "status": "completed"
    },
    "tags": []
   },
   "outputs": [
    {
     "name": "stdout",
     "output_type": "stream",
     "text": [
      "Model pipeline constructed successfully.\n"
     ]
    }
   ],
   "source": [
    "# Preprocessing and Model Pipeline\n",
    "\n",
    "# splitting dataset in features X and target y\n",
    "X = df.drop('Churn', axis=1)\n",
    "y = df['Churn']\n",
    "\n",
    "# Identify column types\n",
    "categorical_cols = X.select_dtypes(include='object').columns.tolist() # selecting columns with text i.e. data type object fr pd\n",
    "\n",
    "# transformers\n",
    "cat_transformer = OneHotEncoder(handle_unknown='ignore', drop='first') # transforms text to numbers, k coloumns for k categories,in future if a new category is added it will ignore and drops the first column as its redundant basically if its not anything else then its the first coloumn\n",
    "\n",
    "# Create the preprocessor\n",
    "preprocessor = ColumnTransformer( # this is a class from scikit learn which applies our intended tranformations\n",
    "    transformers=[\n",
    "        ('cat', cat_transformer, categorical_cols) # tranform the categorical_columns acc to cat_transformer\n",
    "    ],\n",
    "    remainder='passthrough' # let the remaining colums to pass through if any\n",
    ")\n",
    "\n",
    "# Build the final model pipeline with SMOTE\n",
    "model_pipeline = ImbPipeline(steps=[ #imbpipeline from the imbalanced-learn library ensures every piece of data goes through a specific sequence of stations in the correct order. also knonws how to work with smote.\n",
    "    ('preprocessor', preprocessor), # nickname for this step which is preprocessor to get data cleaned\n",
    "    ('smote', SMOTE(random_state=42)),# smote checks for imbalance and balances it with synthetic data same every time since we specified type 42\n",
    "    ('classifier', RandomForestClassifier(random_state=42)) # after that our algo is used on data. always use the exact same random starting point for consistency and only try a 1000 times to find the best possible curve\n",
    "])                                                   \n",
    "\n",
    "print(\"Model pipeline constructed successfully.\")"
   ]
  },
  {
   "cell_type": "code",
   "execution_count": 5,
   "id": "1c7ae4c6",
   "metadata": {
    "execution": {
     "iopub.execute_input": "2025-08-28T08:10:40.859318Z",
     "iopub.status.busy": "2025-08-28T08:10:40.858880Z",
     "iopub.status.idle": "2025-08-28T08:10:42.793819Z",
     "shell.execute_reply": "2025-08-28T08:10:42.792502Z"
    },
    "papermill": {
     "duration": 1.942019,
     "end_time": "2025-08-28T08:10:42.796201",
     "exception": false,
     "start_time": "2025-08-28T08:10:40.854182",
     "status": "completed"
    },
    "tags": []
   },
   "outputs": [
    {
     "name": "stdout",
     "output_type": "stream",
     "text": [
      "Training the model...\n",
      "Model training complete.\n",
      "\n",
      "Classification Report:\n",
      "              precision    recall  f1-score   support\n",
      "\n",
      "           0       0.83      0.88      0.86      1035\n",
      "           1       0.62      0.52      0.56       374\n",
      "\n",
      "    accuracy                           0.79      1409\n",
      "   macro avg       0.73      0.70      0.71      1409\n",
      "weighted avg       0.78      0.79      0.78      1409\n",
      "\n",
      "Confusion Matrix:\n"
     ]
    },
    {
     "data": {
      "image/png": "[encoded data removed]",
      "text/plain": [
       "<Figure size 640x480 with 2 Axes>"
      ]
     },
     "metadata": {},
     "output_type": "display_data"
    },
    {
     "name": "stdout",
     "output_type": "stream",
     "text": [
      "\n",
      "Pipeline saved successfully to '/kaggle/working/churn_prediction_pipeline.joblib'\n"
     ]
    }
   ],
   "source": [
    "# Train, Evaluate, and Save Model\n",
    "\n",
    "# Spliting the dataset\n",
    "X_train, X_test, y_train, y_test = train_test_split( #scikit learn fucntion train test split size 0.2 means hold back 20% for test also this function always returns data in same order x train,test,y train test\n",
    "    X, y, test_size=0.2, random_state=42, stratify=y\n",
    ")\n",
    "\n",
    "# Training the model\n",
    "print(\"Training the model...\")\n",
    "model_pipeline.fit(X_train, y_train) # .fit() is a fucntion for all scikit learn objects\n",
    "print(\"Model training complete.\")\n",
    "\n",
    "# Making predictions and evaluate\n",
    "y_pred = model_pipeline.predict(X_test) #since model is trained now we pass the new unseen test data to get predictions\n",
    "print(\"\\nClassification Report:\")\n",
    "print(classification_report(y_test, y_pred)) # It then compares them and returns a neatly formatted text report with key performance metrics like precision, recall, and f1-score, function from the scikit-learn library Its job is to act as a \"grading tool.\"\n",
    "\n",
    "# Display the confusion matrix\n",
    "print(\"Confusion Matrix:\")\n",
    "ConfusionMatrixDisplay.from_estimator(model_pipeline, X_test, y_test, cmap='Blues') # class method from the scikit-learn library.\n",
    "plt.show()\n",
    "\n",
    "# Save the final pipeline.\n",
    "joblib.dump(model_pipeline, 'churn_prediction_pipeline.joblib')\n",
    "print(\"\\nPipeline saved successfully to '/kaggle/working/churn_prediction_pipeline.joblib'\")"
   ]
  },
  {
   "cell_type": "code",
   "execution_count": 6,
   "id": "6e8dd48c",
   "metadata": {
    "execution": {
     "iopub.execute_input": "2025-08-28T08:10:42.807114Z",
     "iopub.status.busy": "2025-08-28T08:10:42.806753Z",
     "iopub.status.idle": "2025-08-28T08:10:42.938261Z",
     "shell.execute_reply": "2025-08-28T08:10:42.937036Z"
    },
    "papermill": {
     "duration": 0.138782,
     "end_time": "2025-08-28T08:10:42.939857",
     "exception": false,
     "start_time": "2025-08-28T08:10:42.801075",
     "status": "completed"
    },
    "tags": []
   },
   "outputs": [
    {
     "name": "stdout",
     "output_type": "stream",
     "text": [
      "--- Prediction for Sample Customer ---\n",
      "Prediction: UNLIKELY to Churn\n",
      "Confidence (No Churn): 54.00%\n",
      "Confidence (Churn): 46.00%\n"
     ]
    }
   ],
   "source": [
    "# Loading Saved Model and Making a Sample Prediction\n",
    "\n",
    "# Load the saved pipeline from the output directory\n",
    "loaded_pipeline = joblib.load('churn_prediction_pipeline.joblib') # this pipeline is already trained and ready to predict on new data\n",
    "\n",
    "# sample customer (as a dictionary)\n",
    "sample_customer = {\n",
    "    'gender': 'Female',\n",
    "    'SeniorCitizen': 0,\n",
    "    'Partner': 'Yes',\n",
    "    'Dependents': 'No',\n",
    "    'tenure': 2,\n",
    "    'PhoneService': 'No',\n",
    "    'MultipleLines': 'No',\n",
    "    'InternetService': 'DSL',\n",
    "    'OnlineSecurity': 'No',\n",
    "    'OnlineBackup': 'No',\n",
    "    'DeviceProtection': 'No',\n",
    "    'TechSupport': 'No',\n",
    "    'StreamingTV': 'No',\n",
    "    'StreamingMovies': 'No',\n",
    "    'Contract': 'Month-to-month',\n",
    "    'PaperlessBilling': 'No',\n",
    "    'PaymentMethod': 'Electronic check',\n",
    "    'MonthlyCharges': 55.5,\n",
    "    'TotalCharges': 5000.0\n",
    "}\n",
    "\n",
    "# Convert the dictionary to a DataFrame for prediction\n",
    "sample_df = pd.DataFrame([sample_customer])\n",
    "\n",
    "# Use the loaded pipeline to predict\n",
    "prediction = loaded_pipeline.predict(sample_df)\n",
    "prediction_proba = loaded_pipeline.predict_proba(sample_df)\n",
    "\n",
    "# Display the result\n",
    "print(\"--- Prediction for Sample Customer ---\")\n",
    "if prediction[0] == 1: # scikit learn always return answer in array if tht answer is one likely to churn\n",
    "    print(\"Prediction: LIKELY to Churn\")\n",
    "else:\n",
    "    print(\"Prediction: UNLIKELY to Churn\")\n",
    "\n",
    "print(f\"Confidence (No Churn): {prediction_proba[0][0]:.2%}\") # the probalities are also and array inside of our answer array\n",
    "print(f\"Confidence (Churn): {prediction_proba[0][1]:.2%}\") # from the answer array first answer 2nd value is churn prob *100 (.2%)"
   ]
  }
 ],
 "metadata": {
  "kaggle": {
   "accelerator": "none",
   "dataSources": [
    {
     "datasetId": 13996,
     "sourceId": 18858,
     "sourceType": "datasetVersion"
    }
   ],
   "dockerImageVersionId": 31089,
   "isGpuEnabled": false,
   "isInternetEnabled": true,
   "language": "python",
   "sourceType": "notebook"
  },
  "kernelspec": {
   "display_name": "Python 3",
   "language": "python",
   "name": "python3"
  },
  "language_info": {
   "codemirror_mode": {
    "name": "ipython",
    "version": 3
   },
   "file_extension": ".py",
   "mimetype": "text/x-python",
   "name": "python",
   "nbconvert_exporter": "python",
   "pygments_lexer": "ipython3",
   "version": "3.11.13"
  },
  "papermill": {
   "default_parameters": {},
   "duration": 28.963985,
   "end_time": "2025-08-28T08:10:43.866324",
   "environment_variables": {},
   "exception": null,
   "input_path": "__notebook__.ipynb",
   "output_path": "__notebook__.ipynb",
   "parameters": {},
   "start_time": "2025-08-28T08:10:14.902339",
   "version": "2.6.0"
  }
 },
 "nbformat": 4,
 "nbformat_minor": 5
}
